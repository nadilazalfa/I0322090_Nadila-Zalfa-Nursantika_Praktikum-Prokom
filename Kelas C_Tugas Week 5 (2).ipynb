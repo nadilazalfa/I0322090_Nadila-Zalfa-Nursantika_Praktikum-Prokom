{
 "cells": [
  {
   "attachments": {},
   "cell_type": "markdown",
   "metadata": {},
   "source": [
    "1. Buatlah program untuk menghitung pangkat 2 dari angka 1 hingga 50!"
   ]
  },
  {
   "cell_type": "code",
   "execution_count": 1,
   "metadata": {},
   "outputs": [
    {
     "name": "stdout",
     "output_type": "stream",
     "text": [
      "1pangkat 2 adalah 1\n",
      "2pangkat 2 adalah 4\n",
      "3pangkat 2 adalah 9\n",
      "4pangkat 2 adalah 16\n",
      "5pangkat 2 adalah 25\n",
      "6pangkat 2 adalah 36\n",
      "7pangkat 2 adalah 49\n",
      "8pangkat 2 adalah 64\n",
      "9pangkat 2 adalah 81\n",
      "10pangkat 2 adalah 100\n",
      "11pangkat 2 adalah 121\n",
      "12pangkat 2 adalah 144\n",
      "13pangkat 2 adalah 169\n",
      "14pangkat 2 adalah 196\n",
      "15pangkat 2 adalah 225\n",
      "16pangkat 2 adalah 256\n",
      "17pangkat 2 adalah 289\n",
      "18pangkat 2 adalah 324\n",
      "19pangkat 2 adalah 361\n",
      "20pangkat 2 adalah 400\n",
      "21pangkat 2 adalah 441\n",
      "22pangkat 2 adalah 484\n",
      "23pangkat 2 adalah 529\n",
      "24pangkat 2 adalah 576\n",
      "25pangkat 2 adalah 625\n",
      "26pangkat 2 adalah 676\n",
      "27pangkat 2 adalah 729\n",
      "28pangkat 2 adalah 784\n",
      "29pangkat 2 adalah 841\n",
      "30pangkat 2 adalah 900\n",
      "31pangkat 2 adalah 961\n",
      "32pangkat 2 adalah 1024\n",
      "33pangkat 2 adalah 1089\n",
      "34pangkat 2 adalah 1156\n",
      "35pangkat 2 adalah 1225\n",
      "36pangkat 2 adalah 1296\n",
      "37pangkat 2 adalah 1369\n",
      "38pangkat 2 adalah 1444\n",
      "39pangkat 2 adalah 1521\n",
      "40pangkat 2 adalah 1600\n",
      "41pangkat 2 adalah 1681\n",
      "42pangkat 2 adalah 1764\n",
      "43pangkat 2 adalah 1849\n",
      "44pangkat 2 adalah 1936\n",
      "45pangkat 2 adalah 2025\n",
      "46pangkat 2 adalah 2116\n",
      "47pangkat 2 adalah 2209\n",
      "48pangkat 2 adalah 2304\n",
      "49pangkat 2 adalah 2401\n",
      "50pangkat 2 adalah 2500\n"
     ]
    }
   ],
   "source": [
    "# Kerjakan nomor 1 di sini\n",
    "for i in range(1,51):\n",
    "    x = i**2\n",
    "    print(f'{i}pangkat 2 adalah {x}')"
   ]
  },
  {
   "attachments": {},
   "cell_type": "markdown",
   "metadata": {},
   "source": [
    "2. Buatlah sebuah list yang berisi daftar nama mahasiswa angkatan kalian minimal sejumlah 10 nama. Kemudian buat program pencarian menggunakan pengulangan, di mana apabila nama yang user inputkan sudah sesuai dengan isi list maka program akan berhenti dan menampilkan output \"Pencarian anda sudah berakhir\""
   ]
  },
  {
   "attachments": {},
   "cell_type": "markdown",
   "metadata": {},
   "source": [
    "catatan: perhatikan user dapat menginputkan menggunakan baik huruf kapital maupun tidak"
   ]
  },
  {
   "cell_type": "code",
   "execution_count": 7,
   "metadata": {},
   "outputs": [
    {
     "name": "stdout",
     "output_type": "stream",
     "text": [
      "zalfa \n",
      "pencarian anda sudah berakir\n"
     ]
    }
   ],
   "source": [
    "# Kerjakan nomor 2 di sini\n",
    "nama = ['nadila','zalfa','yalep','yalp','yalpalp','yalpyourbae','zalfalp','yalpaelpe','zalfaelpe','elpe']\n",
    "asd = input('masukan nama ')\n",
    "asd = asd.lower()\n",
    "for x in nama :\n",
    "    if asd == x:\n",
    "        print(f'{x} \\npencarian anda sudah berakir')\n",
    "        break\n",
    "    print\n"
   ]
  },
  {
   "attachments": {},
   "cell_type": "markdown",
   "metadata": {},
   "source": [
    "3. Disajikan list sebagai berikut "
   ]
  },
  {
   "cell_type": "code",
   "execution_count": null,
   "metadata": {},
   "outputs": [],
   "source": [
    "bulan = ['januari', 'februari', 'maret', 'april','mei','juni','juli','agustus','september','oktober','november','desember']\n",
    "kota = ['jakarta' , 'kuala lumpur', 'bangkok', 'seoul', 'canada','london','dubai','barcelona']"
   ]
  },
  {
   "attachments": {},
   "cell_type": "markdown",
   "metadata": {},
   "source": [
    "Robert adalah seorang penyanyi terkenal. Dia merencanakan konser world tour di tahun 2024 mendatang di berbagai negara. Dengan catatan pada bulan April dan Mei, Robert kembali ke indonesia untuk istirahat sejenak kemudian melanjutkan lagi konser. Berdasarkan kasus tersebut buatlah program pengulangannya!"
   ]
  },
  {
   "cell_type": "code",
   "execution_count": 8,
   "metadata": {},
   "outputs": [
    {
     "name": "stdout",
     "output_type": "stream",
     "text": [
      "Robert akan konser di bulan januari di kota jakarta\n",
      "Robert akan konser di bulan februari di kota kuala lumpur\n",
      "Robert akan konser di bulan maret di kota bangkok\n",
      "di bulan april robert mau istirahat\n",
      "di bulan mei robert mau istirahat\n",
      "Robert akan konser di bulan juni di kota seoul\n",
      "Robert akan konser di bulan juli di kota canada\n",
      "Robert akan konser di bulan agustus di kota london\n",
      "Robert akan konser di bulan september di kota dubai\n",
      "Robert akan konser di bulan oktober di kota barcelona\n",
      "Robert akan konser di bulan november di kota kuala lumpur\n",
      "Robert akan konser di bulan desember di kota bangkok\n"
     ]
    }
   ],
   "source": [
    "# kerjakan nomor 3 di sini\n",
    "import random\n",
    "bulan = ['januari', 'februari', 'maret', 'april','mei','juni','juli','agustus','september','oktober','november','desember']\n",
    "kota = ['jakarta' , 'kuala lumpur', 'bangkok', 'seoul', 'canada','london','dubai','barcelona']\n",
    "x=0\n",
    "for i in bulan : \n",
    "    if i in ['april','mei']:\n",
    "        print(f'di bulan {i} robert mau istirahat')\n",
    "        continue\n",
    "    print(f'Robert akan konser di bulan {i} di kota', kota[x])\n",
    "    x+=1\n",
    "    if x == 8:\n",
    "        x = random.randrange(0,8)\n",
    "        \n"
   ]
  }
 ],
 "metadata": {
  "kernelspec": {
   "display_name": "Python 3",
   "language": "python",
   "name": "python3"
  },
  "language_info": {
   "codemirror_mode": {
    "name": "ipython",
    "version": 3
   },
   "file_extension": ".py",
   "mimetype": "text/x-python",
   "name": "python",
   "nbconvert_exporter": "python",
   "pygments_lexer": "ipython3",
   "version": "3.10.8"
  },
  "orig_nbformat": 4
 },
 "nbformat": 4,
 "nbformat_minor": 2
}
